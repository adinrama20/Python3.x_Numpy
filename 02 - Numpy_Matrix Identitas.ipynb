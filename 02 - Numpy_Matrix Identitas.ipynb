{
 "cells": [
  {
   "cell_type": "code",
   "execution_count": 1,
   "id": "0a138b20",
   "metadata": {},
   "outputs": [],
   "source": [
    "import numpy as np"
   ]
  },
  {
   "cell_type": "markdown",
   "id": "477ee6ae",
   "metadata": {},
   "source": [
    "Matrix dibawah ini memperlihatkan kita jika kita mengisi parameter dengan data yang berjumlah satu saja (misalnya 3), maka akan menghasilkan matrix 2D dengan 3 baris dan 3 kolom."
   ]
  },
  {
   "cell_type": "code",
   "execution_count": 2,
   "id": "3c56312f",
   "metadata": {},
   "outputs": [
    {
     "data": {
      "text/plain": [
       "array([[1., 0., 0.],\n",
       "       [0., 1., 0.],\n",
       "       [0., 0., 1.]])"
      ]
     },
     "execution_count": 2,
     "metadata": {},
     "output_type": "execute_result"
    }
   ],
   "source": [
    "mat_a = np.eye(3)\n",
    "mat_a"
   ]
  },
  {
   "cell_type": "markdown",
   "id": "1a50fc75",
   "metadata": {},
   "source": [
    "Sedangkan jika kita mengisi parameter dengan data yang berjumlah dua (misalnya 5,3), maka akan menghasilkan matrix 2D dengan 5 baris dan 3 kolom."
   ]
  },
  {
   "cell_type": "code",
   "execution_count": 3,
   "id": "04a9f046",
   "metadata": {},
   "outputs": [
    {
     "data": {
      "text/plain": [
       "array([[1., 0., 0.],\n",
       "       [0., 1., 0.],\n",
       "       [0., 0., 1.],\n",
       "       [0., 0., 0.],\n",
       "       [0., 0., 0.]])"
      ]
     },
     "execution_count": 3,
     "metadata": {},
     "output_type": "execute_result"
    }
   ],
   "source": [
    "mat_b = np.eye(5,3)\n",
    "mat_b"
   ]
  },
  {
   "cell_type": "markdown",
   "id": "f7f01b09",
   "metadata": {},
   "source": [
    "Lalu jika kita mengisi parameter ketiga misalnya dengan (k=1), hal ini bermaksud bahwa identitas akan dimulai pada indeks kolom ke-1."
   ]
  },
  {
   "cell_type": "code",
   "execution_count": 4,
   "id": "24b86d21",
   "metadata": {},
   "outputs": [
    {
     "data": {
      "text/plain": [
       "array([[0., 1., 0.],\n",
       "       [0., 0., 1.],\n",
       "       [0., 0., 0.],\n",
       "       [0., 0., 0.],\n",
       "       [0., 0., 0.]])"
      ]
     },
     "execution_count": 4,
     "metadata": {},
     "output_type": "execute_result"
    }
   ],
   "source": [
    "mat_c = np.eye(5,3, k=1)\n",
    "mat_c"
   ]
  }
 ],
 "metadata": {
  "kernelspec": {
   "display_name": "Python [conda env:belajar_mantap]",
   "language": "python",
   "name": "conda-env-belajar_mantap-py"
  },
  "language_info": {
   "codemirror_mode": {
    "name": "ipython",
    "version": 3
   },
   "file_extension": ".py",
   "mimetype": "text/x-python",
   "name": "python",
   "nbconvert_exporter": "python",
   "pygments_lexer": "ipython3",
   "version": "3.10.4"
  }
 },
 "nbformat": 4,
 "nbformat_minor": 5
}
