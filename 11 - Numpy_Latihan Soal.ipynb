{
 "cells": [
  {
   "cell_type": "code",
   "execution_count": 1,
   "id": "754c2d34",
   "metadata": {},
   "outputs": [],
   "source": [
    "import numpy as np"
   ]
  },
  {
   "cell_type": "markdown",
   "id": "8431c35a",
   "metadata": {
    "slideshow": {
     "slide_type": "slide"
    }
   },
   "source": [
    "Misalkan kita memiliki data seperti dibawah ini"
   ]
  },
  {
   "cell_type": "code",
   "execution_count": 2,
   "id": "5808cfa5",
   "metadata": {
    "slideshow": {
     "slide_type": "subslide"
    }
   },
   "outputs": [],
   "source": [
    "mydata = {\n",
    "    \"Budi\" : [90, 83, 95, 92, 88, 90],\n",
    "    \"Heri\" : [80, 87, 93, 90, 87, 89],\n",
    "    \"Nira\" : [85, 83, 91, 97, 90, 86],\n",
    "    \"Alma\" : [78, 80, 75, 82, 85, 72]\n",
    "}"
   ]
  },
  {
   "cell_type": "markdown",
   "id": "744fd7dc",
   "metadata": {
    "slideshow": {
     "slide_type": "slide"
    }
   },
   "source": [
    "Disini kita hanya akan menggunakan data dari Heri & Alma dan kemudian diconvert ke array numpy"
   ]
  },
  {
   "cell_type": "code",
   "execution_count": 3,
   "id": "d0f33b2c",
   "metadata": {
    "slideshow": {
     "slide_type": "subslide"
    }
   },
   "outputs": [
    {
     "data": {
      "text/plain": [
       "array([80, 87, 93, 90, 87, 89])"
      ]
     },
     "execution_count": 3,
     "metadata": {},
     "output_type": "execute_result"
    }
   ],
   "source": [
    "data_heri = np.array(mydata[\"Heri\"])\n",
    "data_heri"
   ]
  },
  {
   "cell_type": "code",
   "execution_count": 4,
   "id": "348bab90",
   "metadata": {},
   "outputs": [
    {
     "data": {
      "text/plain": [
       "array([78, 80, 75, 82, 85, 72])"
      ]
     },
     "execution_count": 4,
     "metadata": {},
     "output_type": "execute_result"
    }
   ],
   "source": [
    "data_alma = np.array(mydata[\"Alma\"])\n",
    "data_alma"
   ]
  },
  {
   "cell_type": "markdown",
   "id": "783e0e33",
   "metadata": {
    "slideshow": {
     "slide_type": "slide"
    }
   },
   "source": [
    "# Rata-rata"
   ]
  },
  {
   "cell_type": "markdown",
   "id": "9e829b16",
   "metadata": {
    "slideshow": {
     "slide_type": "subslide"
    }
   },
   "source": [
    "Latihan menghitung rata-rata data tunggal, yaitu data Heri"
   ]
  },
  {
   "cell_type": "code",
   "execution_count": 5,
   "id": "bfaabbf5",
   "metadata": {
    "slideshow": {
     "slide_type": "subslide"
    }
   },
   "outputs": [],
   "source": [
    "var1 = 0\n",
    "\n",
    "# proses menghitung rata-rata\n",
    "for i in data_heri:\n",
    "    var1 += i\n",
    "    \n",
    "mean_data_heri = var1 / np.count_nonzero(data_heri)"
   ]
  },
  {
   "cell_type": "code",
   "execution_count": 6,
   "id": "aedb403e",
   "metadata": {
    "slideshow": {
     "slide_type": "subslide"
    }
   },
   "outputs": [
    {
     "name": "stdout",
     "output_type": "stream",
     "text": [
      "Rata-rata data Heri = 87.67\n"
     ]
    }
   ],
   "source": [
    "print(\"Rata-rata data Heri = %.2f\" %mean_data_heri)"
   ]
  },
  {
   "cell_type": "markdown",
   "id": "bc43dbaf",
   "metadata": {
    "slideshow": {
     "slide_type": "slide"
    }
   },
   "source": [
    "# Standar deviasi"
   ]
  },
  {
   "cell_type": "markdown",
   "id": "84f5b17e",
   "metadata": {
    "slideshow": {
     "slide_type": "subslide"
    }
   },
   "source": [
    "Latihan menghitung standar deviasi data tunggal, yaitu data Alma"
   ]
  },
  {
   "cell_type": "code",
   "execution_count": 7,
   "id": "ad02d8bf",
   "metadata": {
    "slideshow": {
     "slide_type": "subslide"
    }
   },
   "outputs": [],
   "source": [
    "var2 = 0\n",
    "var3 = 0\n",
    "\n",
    "# proses menghitung rata-rata\n",
    "for i in data_alma:\n",
    "    var2 += i\n",
    "    \n",
    "mean_data_alma = var2 / np.count_nonzero(data_alma)\n",
    "\n",
    "# proses menghitung standar deviasi\n",
    "for i in data_alma:\n",
    "    var3 += (i - mean_data_alma)**2\n",
    "    \n",
    "std_data_alma = (var3 / np.count_nonzero(data_alma))**1/2"
   ]
  },
  {
   "cell_type": "code",
   "execution_count": 8,
   "id": "8ec02989",
   "metadata": {
    "slideshow": {
     "slide_type": "subslide"
    }
   },
   "outputs": [
    {
     "name": "stdout",
     "output_type": "stream",
     "text": [
      "Standar deviasi data Alma = 9.28\n"
     ]
    }
   ],
   "source": [
    "print(\"Standar deviasi data Alma = %.2f\" %std_data_alma)"
   ]
  }
 ],
 "metadata": {
  "kernelspec": {
   "display_name": "Python [conda env:belajar_mantap]",
   "language": "python",
   "name": "conda-env-belajar_mantap-py"
  },
  "language_info": {
   "codemirror_mode": {
    "name": "ipython",
    "version": 3
   },
   "file_extension": ".py",
   "mimetype": "text/x-python",
   "name": "python",
   "nbconvert_exporter": "python",
   "pygments_lexer": "ipython3",
   "version": "3.10.4"
  }
 },
 "nbformat": 4,
 "nbformat_minor": 5
}
