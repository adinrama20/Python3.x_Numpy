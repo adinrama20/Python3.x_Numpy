{
 "cells": [
  {
   "cell_type": "code",
   "execution_count": 1,
   "id": "27217bc3",
   "metadata": {},
   "outputs": [],
   "source": [
    "import numpy as np"
   ]
  },
  {
   "cell_type": "markdown",
   "id": "e8d538f3",
   "metadata": {},
   "source": [
    "## Membuat array menggunakan list Python"
   ]
  },
  {
   "cell_type": "markdown",
   "id": "b9310731",
   "metadata": {},
   "source": [
    "Membuat array atau matrix dapat menggunakan fungsi bawaan python, yaitu `list`. Namun hal ini tidak disarankan di dalam pembuatan kode program untuk operasi aritmatika, karena hasil yang akan didapat nantinya tidak akan sesuai dengan yang diharapkan. Maka dari itu jika ingin melakukan operasi aritmatika pada matrix akan lebih baik menggunakan fungsi yang telah ada pada library Numpy."
   ]
  },
  {
   "cell_type": "code",
   "execution_count": 2,
   "id": "b9cf7e9c",
   "metadata": {},
   "outputs": [
    {
     "data": {
      "text/plain": [
       "[0, 1, 2, 3, 4, 5, 6]"
      ]
     },
     "execution_count": 2,
     "metadata": {},
     "output_type": "execute_result"
    }
   ],
   "source": [
    "arr_list = [0,1,2,3,4,5,6]\n",
    "arr_list"
   ]
  },
  {
   "cell_type": "code",
   "execution_count": 3,
   "id": "8315f77a",
   "metadata": {},
   "outputs": [
    {
     "data": {
      "text/plain": [
       "list"
      ]
     },
     "execution_count": 3,
     "metadata": {},
     "output_type": "execute_result"
    }
   ],
   "source": [
    "type(arr_list)"
   ]
  },
  {
   "cell_type": "markdown",
   "id": "39f31b68",
   "metadata": {},
   "source": [
    "## Membuat matrix menggunakan fungsi pada Numpy"
   ]
  },
  {
   "cell_type": "markdown",
   "id": "32d47221",
   "metadata": {},
   "source": [
    "Ada banyak fungsi pada Numpy yang dapat digunakan untuk membuat matrix, namun pada pembelajaran kali ini hanya disinggung beberapa saja, diantaranya yaitu array(), empty(), zeros(), ones(). Jika ingin mengetahui lebih lengkap bisa berkunjung ke dokumentasi Numpy pada link berikut : https://numpy.org/doc/"
   ]
  },
  {
   "cell_type": "code",
   "execution_count": 4,
   "id": "b2401bbc",
   "metadata": {},
   "outputs": [
    {
     "data": {
      "text/plain": [
       "array([1, 2, 3, 4, 5, 6, 7, 8, 9])"
      ]
     },
     "execution_count": 4,
     "metadata": {},
     "output_type": "execute_result"
    }
   ],
   "source": [
    "arr_numpy = np.array([1,2,3,4,5,6,7,8,9])\n",
    "arr_numpy"
   ]
  },
  {
   "cell_type": "code",
   "execution_count": 5,
   "id": "a2b5458f",
   "metadata": {},
   "outputs": [
    {
     "data": {
      "text/plain": [
       "array([-6.33966994e-209, -2.57093007e+010])"
      ]
     },
     "execution_count": 5,
     "metadata": {},
     "output_type": "execute_result"
    }
   ],
   "source": [
    "arr_kosong = np.empty(2)\n",
    "arr_kosong"
   ]
  },
  {
   "cell_type": "code",
   "execution_count": 6,
   "id": "a2955c4f",
   "metadata": {},
   "outputs": [
    {
     "data": {
      "text/plain": [
       "array([[0, 0],\n",
       "       [0, 0]])"
      ]
     },
     "execution_count": 6,
     "metadata": {},
     "output_type": "execute_result"
    }
   ],
   "source": [
    "arr_nol = np.zeros([2,2], dtype=int)\n",
    "arr_nol"
   ]
  },
  {
   "cell_type": "code",
   "execution_count": 7,
   "id": "a59870f9",
   "metadata": {},
   "outputs": [
    {
     "data": {
      "text/plain": [
       "array([[1., 1., 1.],\n",
       "       [1., 1., 1.],\n",
       "       [1., 1., 1.]])"
      ]
     },
     "execution_count": 7,
     "metadata": {},
     "output_type": "execute_result"
    }
   ],
   "source": [
    "arr_satu = np.ones([3,3])\n",
    "arr_satu"
   ]
  },
  {
   "cell_type": "code",
   "execution_count": 8,
   "id": "003a405c",
   "metadata": {},
   "outputs": [
    {
     "data": {
      "text/plain": [
       "array([[[1, 1],\n",
       "        [1, 1],\n",
       "        [1, 1]],\n",
       "\n",
       "       [[1, 1],\n",
       "        [1, 1],\n",
       "        [1, 1]]])"
      ]
     },
     "execution_count": 8,
     "metadata": {},
     "output_type": "execute_result"
    }
   ],
   "source": [
    "arr_satu2 = np.ones([2,3,2], dtype=int)\n",
    "arr_satu2"
   ]
  },
  {
   "cell_type": "markdown",
   "id": "a2bf30c4",
   "metadata": {},
   "source": [
    "## Reshape matrix"
   ]
  },
  {
   "cell_type": "markdown",
   "id": "7c84ea40",
   "metadata": {},
   "source": [
    "Kita bisa mengubah ukuran matrix sesuai dengan yang kita inginkan. Namun ada beberapa hal yang perlu diperhatikan, tidak boleh sembarangan. Syarat mengubah ukuran matrix adalah tidak boleh mengubah data / nilai yang ada pada matrix aslinya. Untuk lebih jelasnya bisa diperhatikan source code dibawah ini."
   ]
  },
  {
   "cell_type": "code",
   "execution_count": 9,
   "id": "6ae21b34",
   "metadata": {},
   "outputs": [
    {
     "data": {
      "text/plain": [
       "array([0, 1, 2, 3, 4, 5, 6, 7, 8, 9])"
      ]
     },
     "execution_count": 9,
     "metadata": {},
     "output_type": "execute_result"
    }
   ],
   "source": [
    "arr_reshape = np.arange(10)\n",
    "arr_reshape"
   ]
  },
  {
   "cell_type": "code",
   "execution_count": 10,
   "id": "de221cd0",
   "metadata": {},
   "outputs": [
    {
     "data": {
      "text/plain": [
       "array([[0, 1],\n",
       "       [2, 3],\n",
       "       [4, 5],\n",
       "       [6, 7],\n",
       "       [8, 9]])"
      ]
     },
     "execution_count": 10,
     "metadata": {},
     "output_type": "execute_result"
    }
   ],
   "source": [
    "arr_reshape.reshape(5,2)"
   ]
  },
  {
   "cell_type": "code",
   "execution_count": 11,
   "id": "defc7ea9",
   "metadata": {},
   "outputs": [
    {
     "data": {
      "text/plain": [
       "array([[0, 1, 2, 3, 4],\n",
       "       [5, 6, 7, 8, 9]])"
      ]
     },
     "execution_count": 11,
     "metadata": {},
     "output_type": "execute_result"
    }
   ],
   "source": [
    "arr_reshape.reshape(2,5)"
   ]
  },
  {
   "cell_type": "code",
   "execution_count": 12,
   "id": "74c9f367",
   "metadata": {},
   "outputs": [
    {
     "data": {
      "text/plain": [
       "array([ 0,  1,  2,  3,  4,  5,  6,  7,  8,  9, 10, 11])"
      ]
     },
     "execution_count": 12,
     "metadata": {},
     "output_type": "execute_result"
    }
   ],
   "source": [
    "arr_reshape2 = np.arange(12)\n",
    "arr_reshape2"
   ]
  },
  {
   "cell_type": "code",
   "execution_count": 13,
   "id": "35b9348f",
   "metadata": {},
   "outputs": [
    {
     "data": {
      "text/plain": [
       "array([[ 0,  1,  2],\n",
       "       [ 3,  4,  5],\n",
       "       [ 6,  7,  8],\n",
       "       [ 9, 10, 11]])"
      ]
     },
     "execution_count": 13,
     "metadata": {},
     "output_type": "execute_result"
    }
   ],
   "source": [
    "arr_reshape2.reshape(4,3)"
   ]
  },
  {
   "cell_type": "code",
   "execution_count": 14,
   "id": "ab3d7776",
   "metadata": {},
   "outputs": [
    {
     "data": {
      "text/plain": [
       "array([[[ 0,  1],\n",
       "        [ 2,  3],\n",
       "        [ 4,  5]],\n",
       "\n",
       "       [[ 6,  7],\n",
       "        [ 8,  9],\n",
       "        [10, 11]]])"
      ]
     },
     "execution_count": 14,
     "metadata": {},
     "output_type": "execute_result"
    }
   ],
   "source": [
    "arr_reshape2.reshape(2,3,2)"
   ]
  },
  {
   "cell_type": "markdown",
   "id": "220bba34",
   "metadata": {},
   "source": [
    "## Interval matrix"
   ]
  },
  {
   "cell_type": "markdown",
   "id": "fd6c53ec",
   "metadata": {},
   "source": [
    "Kita bisa membuat sebuah matrix dengan interval atau gap atau jarak sesuai dengan yang kita inginkan. Parameter ketiga merupakan gap yang kita buat untuk menentukan jarak antar nilai. Untuk lebih jelasnya bisa diperhatikan source code dibawah ini."
   ]
  },
  {
   "cell_type": "code",
   "execution_count": 15,
   "id": "a7510b6d",
   "metadata": {},
   "outputs": [
    {
     "data": {
      "text/plain": [
       "array([1, 3, 5, 7])"
      ]
     },
     "execution_count": 15,
     "metadata": {},
     "output_type": "execute_result"
    }
   ],
   "source": [
    "arr_inter = np.arange(1, 9, 2)\n",
    "arr_inter"
   ]
  },
  {
   "cell_type": "code",
   "execution_count": 16,
   "id": "db8f2cee",
   "metadata": {},
   "outputs": [
    {
     "data": {
      "text/plain": [
       "array([ 4. ,  6.5,  9. , 11.5, 14. , 16.5, 19. ])"
      ]
     },
     "execution_count": 16,
     "metadata": {},
     "output_type": "execute_result"
    }
   ],
   "source": [
    "arr_inter2 = np.arange(4, 20, 2.5)\n",
    "arr_inter2"
   ]
  },
  {
   "cell_type": "markdown",
   "id": "3ac698f3",
   "metadata": {},
   "source": [
    "## Sequence matrix"
   ]
  },
  {
   "cell_type": "markdown",
   "id": "c6462055",
   "metadata": {},
   "source": [
    "Kita juga bisa menentukan berapa jumlah nilai yang terdapat dalam sebuah matrix menggunakan fungsi `linspace()`. Julah nilai defaultnya adalah 50, namun kita bisa mengubah jumlah nilai tersebut sesuai dengan yang kita inginkan. Untuk lebih jelasnya bisa diperhatikan source code dibawah ini."
   ]
  },
  {
   "cell_type": "code",
   "execution_count": 17,
   "id": "fa392f7f",
   "metadata": {},
   "outputs": [
    {
     "data": {
      "text/plain": [
       "array([ 2.        ,  2.16326531,  2.32653061,  2.48979592,  2.65306122,\n",
       "        2.81632653,  2.97959184,  3.14285714,  3.30612245,  3.46938776,\n",
       "        3.63265306,  3.79591837,  3.95918367,  4.12244898,  4.28571429,\n",
       "        4.44897959,  4.6122449 ,  4.7755102 ,  4.93877551,  5.10204082,\n",
       "        5.26530612,  5.42857143,  5.59183673,  5.75510204,  5.91836735,\n",
       "        6.08163265,  6.24489796,  6.40816327,  6.57142857,  6.73469388,\n",
       "        6.89795918,  7.06122449,  7.2244898 ,  7.3877551 ,  7.55102041,\n",
       "        7.71428571,  7.87755102,  8.04081633,  8.20408163,  8.36734694,\n",
       "        8.53061224,  8.69387755,  8.85714286,  9.02040816,  9.18367347,\n",
       "        9.34693878,  9.51020408,  9.67346939,  9.83673469, 10.        ])"
      ]
     },
     "execution_count": 17,
     "metadata": {},
     "output_type": "execute_result"
    }
   ],
   "source": [
    "arr_seq = np.linspace(2, 10)\n",
    "arr_seq"
   ]
  },
  {
   "cell_type": "code",
   "execution_count": 18,
   "id": "be806e5e",
   "metadata": {},
   "outputs": [
    {
     "data": {
      "text/plain": [
       "(array([ 2,  4,  6,  8, 10]), 2.0)"
      ]
     },
     "execution_count": 18,
     "metadata": {},
     "output_type": "execute_result"
    }
   ],
   "source": [
    "arr_seq2 = np.linspace(2, 10, 5, dtype=int , retstep=True)\n",
    "arr_seq2"
   ]
  }
 ],
 "metadata": {
  "kernelspec": {
   "display_name": "Python [conda env:belajar_mantap] *",
   "language": "python",
   "name": "conda-env-belajar_mantap-py"
  },
  "language_info": {
   "codemirror_mode": {
    "name": "ipython",
    "version": 3
   },
   "file_extension": ".py",
   "mimetype": "text/x-python",
   "name": "python",
   "nbconvert_exporter": "python",
   "pygments_lexer": "ipython3",
   "version": "3.10.4"
  }
 },
 "nbformat": 4,
 "nbformat_minor": 5
}
