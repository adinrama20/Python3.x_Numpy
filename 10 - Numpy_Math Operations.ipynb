{
 "cells": [
  {
   "cell_type": "code",
   "execution_count": 1,
   "id": "d130bb54",
   "metadata": {},
   "outputs": [],
   "source": [
    "import numpy as np"
   ]
  },
  {
   "cell_type": "markdown",
   "id": "1c24c6e2",
   "metadata": {},
   "source": [
    "# Pangkat dua"
   ]
  },
  {
   "cell_type": "code",
   "execution_count": 2,
   "id": "c13a41d1",
   "metadata": {},
   "outputs": [
    {
     "data": {
      "text/plain": [
       "169"
      ]
     },
     "execution_count": 2,
     "metadata": {},
     "output_type": "execute_result"
    }
   ],
   "source": [
    "d = np.square(13)\n",
    "d"
   ]
  },
  {
   "cell_type": "markdown",
   "id": "1f7c38f6",
   "metadata": {},
   "source": [
    "# Akar pangkat dua"
   ]
  },
  {
   "cell_type": "code",
   "execution_count": 3,
   "id": "e5d929d5",
   "metadata": {},
   "outputs": [
    {
     "data": {
      "text/plain": [
       "8.0"
      ]
     },
     "execution_count": 3,
     "metadata": {},
     "output_type": "execute_result"
    }
   ],
   "source": [
    "a = np.sqrt(64)\n",
    "a"
   ]
  },
  {
   "cell_type": "markdown",
   "id": "3728c431",
   "metadata": {},
   "source": [
    "# Modulus"
   ]
  },
  {
   "cell_type": "code",
   "execution_count": 4,
   "id": "0299965f",
   "metadata": {},
   "outputs": [
    {
     "data": {
      "text/plain": [
       "2"
      ]
     },
     "execution_count": 4,
     "metadata": {},
     "output_type": "execute_result"
    }
   ],
   "source": [
    "b = np.mod(14, 3)\n",
    "b"
   ]
  },
  {
   "cell_type": "markdown",
   "id": "3b23581d",
   "metadata": {},
   "source": [
    "# Logaritma"
   ]
  },
  {
   "cell_type": "code",
   "execution_count": 5,
   "id": "34c1335a",
   "metadata": {},
   "outputs": [
    {
     "data": {
      "text/plain": [
       "4.709530201312334"
      ]
     },
     "execution_count": 5,
     "metadata": {},
     "output_type": "execute_result"
    }
   ],
   "source": [
    "c = np.log(111)\n",
    "c"
   ]
  }
 ],
 "metadata": {
  "kernelspec": {
   "display_name": "Python [conda env:belajar_mantap]",
   "language": "python",
   "name": "conda-env-belajar_mantap-py"
  },
  "language_info": {
   "codemirror_mode": {
    "name": "ipython",
    "version": 3
   },
   "file_extension": ".py",
   "mimetype": "text/x-python",
   "name": "python",
   "nbconvert_exporter": "python",
   "pygments_lexer": "ipython3",
   "version": "3.10.4"
  }
 },
 "nbformat": 4,
 "nbformat_minor": 5
}
