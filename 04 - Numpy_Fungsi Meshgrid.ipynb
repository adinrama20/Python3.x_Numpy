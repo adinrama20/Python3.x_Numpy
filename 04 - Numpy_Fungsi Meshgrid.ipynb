{
 "cells": [
  {
   "cell_type": "code",
   "execution_count": 1,
   "id": "b7b3dbf8",
   "metadata": {},
   "outputs": [],
   "source": [
    "import numpy as np"
   ]
  },
  {
   "cell_type": "markdown",
   "id": "334dd9db",
   "metadata": {},
   "source": [
    "Contoh 1 :"
   ]
  },
  {
   "cell_type": "code",
   "execution_count": 2,
   "id": "32875a45",
   "metadata": {},
   "outputs": [
    {
     "data": {
      "text/plain": [
       "array([-4, -3, -2, -1,  0,  1,  2,  3,  4])"
      ]
     },
     "execution_count": 2,
     "metadata": {},
     "output_type": "execute_result"
    }
   ],
   "source": [
    "arr1 = np.linspace(-4, 4, 9, dtype=int)\n",
    "arr1"
   ]
  },
  {
   "cell_type": "code",
   "execution_count": 3,
   "id": "7669f35c",
   "metadata": {},
   "outputs": [
    {
     "data": {
      "text/plain": [
       "array([-5, -4, -3, -2, -1,  0,  1,  2,  3,  4,  5])"
      ]
     },
     "execution_count": 3,
     "metadata": {},
     "output_type": "execute_result"
    }
   ],
   "source": [
    "arr2 = np.linspace(-5, 5, 11, dtype=int)\n",
    "arr2"
   ]
  },
  {
   "cell_type": "code",
   "execution_count": 4,
   "id": "8c5a2447",
   "metadata": {},
   "outputs": [],
   "source": [
    "arr1, arr2 = np.meshgrid(arr1, arr2)"
   ]
  },
  {
   "cell_type": "code",
   "execution_count": 5,
   "id": "ab8e5030",
   "metadata": {},
   "outputs": [
    {
     "data": {
      "text/plain": [
       "array([[-4, -3, -2, -1,  0,  1,  2,  3,  4],\n",
       "       [-4, -3, -2, -1,  0,  1,  2,  3,  4],\n",
       "       [-4, -3, -2, -1,  0,  1,  2,  3,  4],\n",
       "       [-4, -3, -2, -1,  0,  1,  2,  3,  4],\n",
       "       [-4, -3, -2, -1,  0,  1,  2,  3,  4],\n",
       "       [-4, -3, -2, -1,  0,  1,  2,  3,  4],\n",
       "       [-4, -3, -2, -1,  0,  1,  2,  3,  4],\n",
       "       [-4, -3, -2, -1,  0,  1,  2,  3,  4],\n",
       "       [-4, -3, -2, -1,  0,  1,  2,  3,  4],\n",
       "       [-4, -3, -2, -1,  0,  1,  2,  3,  4],\n",
       "       [-4, -3, -2, -1,  0,  1,  2,  3,  4]])"
      ]
     },
     "execution_count": 5,
     "metadata": {},
     "output_type": "execute_result"
    }
   ],
   "source": [
    "arr1"
   ]
  },
  {
   "cell_type": "code",
   "execution_count": 6,
   "id": "f2dabb4f",
   "metadata": {},
   "outputs": [
    {
     "data": {
      "text/plain": [
       "array([[-5, -5, -5, -5, -5, -5, -5, -5, -5],\n",
       "       [-4, -4, -4, -4, -4, -4, -4, -4, -4],\n",
       "       [-3, -3, -3, -3, -3, -3, -3, -3, -3],\n",
       "       [-2, -2, -2, -2, -2, -2, -2, -2, -2],\n",
       "       [-1, -1, -1, -1, -1, -1, -1, -1, -1],\n",
       "       [ 0,  0,  0,  0,  0,  0,  0,  0,  0],\n",
       "       [ 1,  1,  1,  1,  1,  1,  1,  1,  1],\n",
       "       [ 2,  2,  2,  2,  2,  2,  2,  2,  2],\n",
       "       [ 3,  3,  3,  3,  3,  3,  3,  3,  3],\n",
       "       [ 4,  4,  4,  4,  4,  4,  4,  4,  4],\n",
       "       [ 5,  5,  5,  5,  5,  5,  5,  5,  5]])"
      ]
     },
     "execution_count": 6,
     "metadata": {},
     "output_type": "execute_result"
    }
   ],
   "source": [
    "arr2"
   ]
  },
  {
   "cell_type": "markdown",
   "id": "0853bd61",
   "metadata": {},
   "source": [
    "Contoh 2 :"
   ]
  },
  {
   "cell_type": "code",
   "execution_count": 7,
   "id": "e26f2990",
   "metadata": {},
   "outputs": [],
   "source": [
    "x = np.array([91, 92])\n",
    "y = np.array([85, 86, 87, 88, 89])"
   ]
  },
  {
   "cell_type": "code",
   "execution_count": 8,
   "id": "3684570e",
   "metadata": {},
   "outputs": [
    {
     "data": {
      "text/plain": [
       "array([91, 92])"
      ]
     },
     "execution_count": 8,
     "metadata": {},
     "output_type": "execute_result"
    }
   ],
   "source": [
    "x"
   ]
  },
  {
   "cell_type": "code",
   "execution_count": 9,
   "id": "eae492c6",
   "metadata": {},
   "outputs": [
    {
     "data": {
      "text/plain": [
       "array([85, 86, 87, 88, 89])"
      ]
     },
     "execution_count": 9,
     "metadata": {},
     "output_type": "execute_result"
    }
   ],
   "source": [
    "y"
   ]
  },
  {
   "cell_type": "code",
   "execution_count": 10,
   "id": "6713139e",
   "metadata": {},
   "outputs": [],
   "source": [
    "x, y = np.meshgrid(x, y)"
   ]
  },
  {
   "cell_type": "code",
   "execution_count": 11,
   "id": "4fd03645",
   "metadata": {},
   "outputs": [
    {
     "data": {
      "text/plain": [
       "array([[91, 92],\n",
       "       [91, 92],\n",
       "       [91, 92],\n",
       "       [91, 92],\n",
       "       [91, 92]])"
      ]
     },
     "execution_count": 11,
     "metadata": {},
     "output_type": "execute_result"
    }
   ],
   "source": [
    "x"
   ]
  },
  {
   "cell_type": "code",
   "execution_count": 12,
   "id": "58e9ea8c",
   "metadata": {},
   "outputs": [
    {
     "data": {
      "text/plain": [
       "array([[85, 85],\n",
       "       [86, 86],\n",
       "       [87, 87],\n",
       "       [88, 88],\n",
       "       [89, 89]])"
      ]
     },
     "execution_count": 12,
     "metadata": {},
     "output_type": "execute_result"
    }
   ],
   "source": [
    "y"
   ]
  },
  {
   "cell_type": "markdown",
   "id": "d31307d2",
   "metadata": {},
   "source": [
    "Contoh 3 :"
   ]
  },
  {
   "cell_type": "markdown",
   "id": "563065df",
   "metadata": {},
   "source": [
    "Dengan menggunakan matrix 2D"
   ]
  },
  {
   "cell_type": "code",
   "execution_count": 13,
   "id": "fdc8d019",
   "metadata": {},
   "outputs": [],
   "source": [
    "a = np.array([\n",
    "    [1,2,3],\n",
    "    [4,5,6],\n",
    "    [7,8,9]\n",
    "])"
   ]
  },
  {
   "cell_type": "code",
   "execution_count": 14,
   "id": "9e853bf8",
   "metadata": {},
   "outputs": [],
   "source": [
    "b = np.array([\n",
    "    [11,12,13]\n",
    "])"
   ]
  },
  {
   "cell_type": "code",
   "execution_count": 15,
   "id": "53066552",
   "metadata": {},
   "outputs": [],
   "source": [
    "b, a = np.meshgrid(b,a)"
   ]
  },
  {
   "cell_type": "code",
   "execution_count": 16,
   "id": "cecf2f7e",
   "metadata": {},
   "outputs": [
    {
     "data": {
      "text/plain": [
       "array([[11, 12, 13],\n",
       "       [11, 12, 13],\n",
       "       [11, 12, 13],\n",
       "       [11, 12, 13],\n",
       "       [11, 12, 13],\n",
       "       [11, 12, 13],\n",
       "       [11, 12, 13],\n",
       "       [11, 12, 13],\n",
       "       [11, 12, 13]])"
      ]
     },
     "execution_count": 16,
     "metadata": {},
     "output_type": "execute_result"
    }
   ],
   "source": [
    "b"
   ]
  },
  {
   "cell_type": "code",
   "execution_count": 17,
   "id": "320b0d19",
   "metadata": {},
   "outputs": [
    {
     "data": {
      "text/plain": [
       "array([[1, 1, 1],\n",
       "       [2, 2, 2],\n",
       "       [3, 3, 3],\n",
       "       [4, 4, 4],\n",
       "       [5, 5, 5],\n",
       "       [6, 6, 6],\n",
       "       [7, 7, 7],\n",
       "       [8, 8, 8],\n",
       "       [9, 9, 9]])"
      ]
     },
     "execution_count": 17,
     "metadata": {},
     "output_type": "execute_result"
    }
   ],
   "source": [
    "a"
   ]
  }
 ],
 "metadata": {
  "kernelspec": {
   "display_name": "Python [conda env:belajar_mantap]",
   "language": "python",
   "name": "conda-env-belajar_mantap-py"
  },
  "language_info": {
   "codemirror_mode": {
    "name": "ipython",
    "version": 3
   },
   "file_extension": ".py",
   "mimetype": "text/x-python",
   "name": "python",
   "nbconvert_exporter": "python",
   "pygments_lexer": "ipython3",
   "version": "3.10.4"
  }
 },
 "nbformat": 4,
 "nbformat_minor": 5
}
